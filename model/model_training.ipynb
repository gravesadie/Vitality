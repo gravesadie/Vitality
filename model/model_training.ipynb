{
 "cells": [
  {
   "cell_type": "code",
   "execution_count": 282,
   "metadata": {},
   "outputs": [
    {
     "name": "stdout",
     "output_type": "stream",
     "text": [
      "Training good soles:  109\n",
      "Training bad soles:  84\n",
      "Testing good soles:  22\n",
      "Testing bad soles:  20\n"
     ]
    }
   ],
   "source": [
    "import os\n",
    "import numpy as np\n",
    "import tensorflow as tf\n",
    "\n",
    "import matplotlib.pyplot as plt\n",
    "import matplotlib.image as pltimg\n",
    "%matplotlib inline\n",
    "\n",
    "training_data_dir = './training_model_data/'\n",
    "training_good_s = os.path.join(training_data_dir, 'good_soles')\n",
    "training_bad_s = os.path.join(training_data_dir, 'bad_soles')\n",
    "\n",
    "print('Training good soles: ', len(os.listdir(training_good_s)))\n",
    "print('Training bad soles: ', len(os.listdir(training_bad_s)))\n",
    "\n",
    "testing_data_dir = './test_model_data/'\n",
    "testing_good_s = os.path.join(testing_data_dir, 'good_soles')\n",
    "testing_bad_s = os.path.join(testing_data_dir, 'bad_soles')\n",
    "\n",
    "print('Testing good soles: ', len(os.listdir(testing_good_s)))\n",
    "print('Testing bad soles: ', len(os.listdir(testing_bad_s)))"
   ]
  },
  {
   "cell_type": "code",
   "execution_count": 283,
   "metadata": {},
   "outputs": [],
   "source": [
    "from tensorflow import keras\n",
    "from keras import layers\n",
    "from keras import Model"
   ]
  },
  {
   "cell_type": "code",
   "execution_count": 284,
   "metadata": {},
   "outputs": [],
   "source": [
    "def random_invert_img(x, p=0.5):\n",
    "  if  tf.random.uniform([]) < p:\n",
    "    x = (255-x)\n",
    "  else:\n",
    "    x\n",
    "  return x\n",
    "\n",
    "def random_invert(factor=0.5):\n",
    "  return layers.Lambda(lambda x: random_invert_img(x, factor))\n",
    "\n",
    "random_invert = random_invert()\n",
    "\n",
    "class RandomInvert(layers.Layer):\n",
    "  def __init__(self, factor=0.5, **kwargs):\n",
    "    super().__init__(**kwargs)\n",
    "    self.factor = factor\n",
    "\n",
    "  def call(self, x):\n",
    "    return random_invert_img(x)"
   ]
  },
  {
   "cell_type": "code",
   "execution_count": 285,
   "metadata": {},
   "outputs": [],
   "source": [
    "from keras.optimizers import RMSprop\n",
    "from keras.optimizers import Adagrad\n",
    "from keras.optimizers import Adam\n",
    "\n",
    "# Our input feature map is 150x150x3: 150x150 for the image pixels, and 3 for\n",
    "# the three color channels: R, G, and B\n",
    "img_input = layers.Input(shape=(150, 150, 3))\n",
    "\n",
    "# First convolution extracts 16 filters that are 3x3\n",
    "# Convolution is followed by max-pooling layer with a 2x2 window\n",
    "x = layers.Conv2D(16, 3, activation='relu')(img_input)\n",
    "x = layers.MaxPooling2D(2)(x)\n",
    "\n",
    "# Second convolution extracts 32 filters that are 3x3\n",
    "# Convolution is followed by max-pooling layer with a 2x2 window\n",
    "x = layers.Conv2D(32, 3, activation='relu')(x)\n",
    "x = layers.MaxPooling2D(2)(x)\n",
    "\n",
    "# Third convolution extracts 64 filters that are 3x3\n",
    "# Convolution is followed by max-pooling layer with a 2x2 window\n",
    "#x = layers.Convolution2D(64, 3, activation='relu')(x)\n",
    "#x = layers.MaxPooling2D(2)(x)\n",
    "\n",
    "# Flatten feature map to a 1-dim tensor\n",
    "x = layers.Flatten()(x)\n",
    "\n",
    "# Create a fully connected layer with ReLU activation and 512 hidden units\n",
    "#x = layers.Dense(512, activation='relu')(x)\n",
    "#x = layers.Dropout(0.2)(x)\n",
    "x = layers.Dense(256, activation='relu')(x)\n",
    "x = layers.Dropout(0.2)(x)\n",
    "x = layers.Dense(128, activation='relu')(x)\n",
    "\n",
    "# Create output layer with a single node and sigmoid activation\n",
    "output = layers.Dense(1, activation='sigmoid')(x)\n",
    "\n",
    "# Configure and compile the model\n",
    "model = Model(img_input, output)\n",
    "model.compile(loss='binary_crossentropy',\n",
    "              optimizer=Adam(learning_rate=0.001), #RMSprop(learning_rate=0.001),\n",
    "              metrics=['acc'])"
   ]
  },
  {
   "cell_type": "code",
   "execution_count": 286,
   "metadata": {},
   "outputs": [
    {
     "name": "stdout",
     "output_type": "stream",
     "text": [
      "Model: \"model_24\"\n",
      "_________________________________________________________________\n",
      " Layer (type)                Output Shape              Param #   \n",
      "=================================================================\n",
      " input_25 (InputLayer)       [(None, 150, 150, 3)]     0         \n",
      "                                                                 \n",
      " conv2d_64 (Conv2D)          (None, 148, 148, 16)      448       \n",
      "                                                                 \n",
      " max_pooling2d_64 (MaxPoolin  (None, 74, 74, 16)       0         \n",
      " g2D)                                                            \n",
      "                                                                 \n",
      " conv2d_65 (Conv2D)          (None, 72, 72, 32)        4640      \n",
      "                                                                 \n",
      " max_pooling2d_65 (MaxPoolin  (None, 36, 36, 32)       0         \n",
      " g2D)                                                            \n",
      "                                                                 \n",
      " flatten_24 (Flatten)        (None, 41472)             0         \n",
      "                                                                 \n",
      " dense_51 (Dense)            (None, 256)               10617088  \n",
      "                                                                 \n",
      " dropout_25 (Dropout)        (None, 256)               0         \n",
      "                                                                 \n",
      " dense_52 (Dense)            (None, 128)               32896     \n",
      "                                                                 \n",
      " dense_53 (Dense)            (None, 1)                 129       \n",
      "                                                                 \n",
      "=================================================================\n",
      "Total params: 10,655,201\n",
      "Trainable params: 10,655,201\n",
      "Non-trainable params: 0\n",
      "_________________________________________________________________\n"
     ]
    }
   ],
   "source": [
    "model.summary()"
   ]
  },
  {
   "cell_type": "code",
   "execution_count": 287,
   "metadata": {},
   "outputs": [
    {
     "name": "stdout",
     "output_type": "stream",
     "text": [
      "Found 193 images belonging to 2 classes.\n"
     ]
    }
   ],
   "source": [
    "from tensorflow.keras.preprocessing.image import ImageDataGenerator\n",
    "\n",
    "# All images will be rescaled by 1./255\n",
    "train_datagen = ImageDataGenerator(\n",
    "    rescale=1./255,    \n",
    "    rotation_range=40,\n",
    "    width_shift_range=0.4,\n",
    "    height_shift_range=0.47,\n",
    "    shear_range=0.4,\n",
    "    zoom_range=0.27,\n",
    "    horizontal_flip=True,\n",
    "    preprocessing_function=random_invert)\n",
    "\n",
    "# Flow training images in batches of 20 using train_datagen generator\n",
    "train_generator = train_datagen.flow_from_directory(\n",
    "        training_data_dir,  # This is the source directory for training images\n",
    "        target_size=(150, 150),  # All images will be resized to 150x150\n",
    "        batch_size=20,\n",
    "        # Since we use binary_crossentropy loss, we need binary labels\n",
    "        class_mode='binary')"
   ]
  },
  {
   "cell_type": "code",
   "execution_count": 288,
   "metadata": {},
   "outputs": [
    {
     "name": "stdout",
     "output_type": "stream",
     "text": [
      "Found 42 images belonging to 2 classes.\n"
     ]
    }
   ],
   "source": [
    "val_datagen = ImageDataGenerator(rescale=1./255)\n",
    "# Flow validation images in batches of 20 using val_datagen generator\n",
    "validation_generator = val_datagen.flow_from_directory(\n",
    "        testing_data_dir,\n",
    "        target_size=(150, 150),\n",
    "        batch_size=20,\n",
    "        class_mode='binary')"
   ]
  },
  {
   "cell_type": "code",
   "execution_count": 289,
   "metadata": {},
   "outputs": [
    {
     "name": "stdout",
     "output_type": "stream",
     "text": [
      "Epoch 1/20\n",
      "10/10 - 8s - loss: 1.0591 - acc: 0.4508 - val_loss: 0.7122 - val_acc: 0.4500 - 8s/epoch - 789ms/step\n",
      "Epoch 2/20\n",
      "10/10 - 7s - loss: 0.7092 - acc: 0.5285 - val_loss: 0.7055 - val_acc: 0.5000 - 7s/epoch - 707ms/step\n",
      "Epoch 3/20\n",
      "10/10 - 7s - loss: 0.6841 - acc: 0.5648 - val_loss: 0.8318 - val_acc: 0.5250 - 7s/epoch - 709ms/step\n",
      "Epoch 4/20\n",
      "10/10 - 7s - loss: 0.7020 - acc: 0.5648 - val_loss: 0.6974 - val_acc: 0.4750 - 7s/epoch - 710ms/step\n",
      "Epoch 5/20\n",
      "10/10 - 7s - loss: 0.6815 - acc: 0.5596 - val_loss: 0.6955 - val_acc: 0.4750 - 7s/epoch - 697ms/step\n",
      "Epoch 6/20\n",
      "10/10 - 7s - loss: 0.6892 - acc: 0.5596 - val_loss: 0.6903 - val_acc: 0.5250 - 7s/epoch - 694ms/step\n",
      "Epoch 7/20\n",
      "10/10 - 7s - loss: 0.6776 - acc: 0.5648 - val_loss: 0.6867 - val_acc: 0.5500 - 7s/epoch - 709ms/step\n",
      "Epoch 8/20\n",
      "10/10 - 7s - loss: 0.6805 - acc: 0.5648 - val_loss: 0.6911 - val_acc: 0.5000 - 7s/epoch - 690ms/step\n",
      "Epoch 9/20\n",
      "10/10 - 7s - loss: 0.6749 - acc: 0.5648 - val_loss: 0.6818 - val_acc: 0.5250 - 7s/epoch - 705ms/step\n",
      "Epoch 10/20\n",
      "10/10 - 7s - loss: 0.6693 - acc: 0.5648 - val_loss: 0.6773 - val_acc: 0.5250 - 7s/epoch - 701ms/step\n",
      "Epoch 11/20\n",
      "10/10 - 7s - loss: 0.6788 - acc: 0.5648 - val_loss: 0.6765 - val_acc: 0.5250 - 7s/epoch - 708ms/step\n",
      "Epoch 12/20\n",
      "10/10 - 7s - loss: 0.6707 - acc: 0.5648 - val_loss: 0.6714 - val_acc: 0.5250 - 7s/epoch - 703ms/step\n",
      "Epoch 13/20\n",
      "10/10 - 7s - loss: 0.6746 - acc: 0.5648 - val_loss: 0.6538 - val_acc: 0.5500 - 7s/epoch - 709ms/step\n",
      "Epoch 14/20\n",
      "10/10 - 7s - loss: 0.6755 - acc: 0.5648 - val_loss: 0.6946 - val_acc: 0.5000 - 7s/epoch - 700ms/step\n",
      "Epoch 15/20\n",
      "10/10 - 7s - loss: 0.6769 - acc: 0.5648 - val_loss: 0.7115 - val_acc: 0.5000 - 7s/epoch - 699ms/step\n",
      "Epoch 16/20\n",
      "10/10 - 7s - loss: 0.6725 - acc: 0.5648 - val_loss: 0.6578 - val_acc: 0.5250 - 7s/epoch - 703ms/step\n",
      "Epoch 17/20\n",
      "10/10 - 7s - loss: 0.6590 - acc: 0.5648 - val_loss: 0.6672 - val_acc: 0.5250 - 7s/epoch - 696ms/step\n",
      "Epoch 18/20\n",
      "10/10 - 7s - loss: 0.6722 - acc: 0.5648 - val_loss: 0.6686 - val_acc: 0.5250 - 7s/epoch - 707ms/step\n",
      "Epoch 19/20\n",
      "10/10 - 7s - loss: 0.6788 - acc: 0.5648 - val_loss: 0.6651 - val_acc: 0.5250 - 7s/epoch - 685ms/step\n",
      "Epoch 20/20\n",
      "10/10 - 7s - loss: 0.6873 - acc: 0.5648 - val_loss: 0.6852 - val_acc: 0.5000 - 7s/epoch - 690ms/step\n"
     ]
    }
   ],
   "source": [
    "history = model.fit(\n",
    "      train_generator,\n",
    "      steps_per_epoch=10,  # 159 images = batch_size * steps\n",
    "      epochs=20,\n",
    "      validation_data=validation_generator,\n",
    "      validation_steps=2,  # 63 images = batch_size * steps\n",
    "      verbose=2,\n",
    "      shuffle=True)"
   ]
  },
  {
   "cell_type": "code",
   "execution_count": 321,
   "metadata": {},
   "outputs": [
    {
     "data": {
      "text/plain": [
       "Text(0.5, 1.0, 'Training and validation loss')"
      ]
     },
     "execution_count": 321,
     "metadata": {},
     "output_type": "execute_result"
    },
    {
     "data": {
      "image/png": "[encoded data removed]",
      "text/plain": [
       "<Figure size 640x480 with 1 Axes>"
      ]
     },
     "metadata": {},
     "output_type": "display_data"
    },
    {
     "data": {
      "image/png": "[encoded data removed]",
      "text/plain": [
       "<Figure size 640x480 with 1 Axes>"
      ]
     },
     "metadata": {},
     "output_type": "display_data"
    }
   ],
   "source": [
    "# Retrieve a list of accuracy results on training and validation data\n",
    "# sets for each training epoch\n",
    "acc = history.history['acc']\n",
    "val_acc = history.history['val_acc']\n",
    "\n",
    "# Retrieve a list of list results on training and validation data\n",
    "# sets for each training epoch\n",
    "loss = history.history['loss']\n",
    "val_loss = history.history['val_loss']\n",
    "\n",
    "# Get number of epochs\n",
    "epochs = range(len(acc))\n",
    "\n",
    "# Plot training and validation accuracy per epoch\n",
    "plt.plot(epochs, acc, label='training acc')\n",
    "plt.plot(epochs, val_acc, label='validation acc')\n",
    "plt.legend(loc='lower right')\n",
    "plt.title('Training and validation accuracy')\n",
    "\n",
    "plt.figure()\n",
    "\n",
    "# Plot training and validation loss per epoch\n",
    "plt.plot(epochs, loss, label='training loss')\n",
    "plt.plot(epochs, val_loss, label='validation loss')\n",
    "plt.legend(loc='upper right')\n",
    "plt.title('Training and validation loss')"
   ]
  },
  {
   "cell_type": "code",
   "execution_count": null,
   "metadata": {},
   "outputs": [],
   "source": []
  },
  {
   "cell_type": "code",
   "execution_count": 323,
   "metadata": {},
   "outputs": [
    {
     "name": "stdout",
     "output_type": "stream",
     "text": [
      "3/3 [==============================] - 1s 357ms/step\n"
     ]
    },
    {
     "ename": "NameError",
     "evalue": "name 'np' is not defined",
     "output_type": "error",
     "traceback": [
      "\u001b[1;31m---------------------------------------------------------------------------\u001b[0m",
      "\u001b[1;31mNameError\u001b[0m                                 Traceback (most recent call last)",
      "Cell \u001b[1;32mIn[323], line 2\u001b[0m\n\u001b[0;32m      1\u001b[0m predict \u001b[38;5;241m=\u001b[39m model\u001b[38;5;241m.\u001b[39mpredict(validation_generator)\n\u001b[1;32m----> 2\u001b[0m predicted_classes \u001b[38;5;241m=\u001b[39m \u001b[43mnp\u001b[49m\u001b[38;5;241m.\u001b[39margmax(predict, axis\u001b[38;5;241m=\u001b[39m\u001b[38;5;241m1\u001b[39m)\n",
      "\u001b[1;31mNameError\u001b[0m: name 'np' is not defined"
     ]
    }
   ],
   "source": [
    "predict = model.predict(validation_generator)\n",
    "predicted_classes = np.argmax(predict, axis=1)"
   ]
  },
  {
   "cell_type": "code",
   "execution_count": 309,
   "metadata": {},
   "outputs": [
    {
     "name": "stdout",
     "output_type": "stream",
     "text": [
      "Found 0 images belonging to 0 classes.\n"
     ]
    }
   ],
   "source": [
    "test_sample_dir = './test_sample/'\n",
    "test_sample_gen = ImageDataGenerator(rescale=1./255)\n",
    "test_sample = test_sample_gen.flow_from_directory(test_sample_dir, target_size=(150, 150))"
   ]
  },
  {
   "cell_type": "code",
   "execution_count": 311,
   "metadata": {},
   "outputs": [
    {
     "ename": "IndexError",
     "evalue": "tuple index out of range",
     "output_type": "error",
     "traceback": [
      "\u001b[1;31m---------------------------------------------------------------------------\u001b[0m",
      "\u001b[1;31mIndexError\u001b[0m                                Traceback (most recent call last)",
      "Cell \u001b[1;32mIn[311], line 1\u001b[0m\n\u001b[1;32m----> 1\u001b[0m \u001b[43mmodel\u001b[49m\u001b[38;5;241;43m.\u001b[39;49m\u001b[43mevaluate\u001b[49m\u001b[43m(\u001b[49m\u001b[43mtest_sample_dir\u001b[49m\u001b[43m)\u001b[49m\n",
      "File \u001b[1;32mc:\\Users\\ayqya\\anaconda3\\envs\\cnn\\lib\\site-packages\\keras\\utils\\traceback_utils.py:70\u001b[0m, in \u001b[0;36mfilter_traceback.<locals>.error_handler\u001b[1;34m(*args, **kwargs)\u001b[0m\n\u001b[0;32m     67\u001b[0m     filtered_tb \u001b[38;5;241m=\u001b[39m _process_traceback_frames(e\u001b[38;5;241m.\u001b[39m__traceback__)\n\u001b[0;32m     68\u001b[0m     \u001b[38;5;66;03m# To get the full stack trace, call:\u001b[39;00m\n\u001b[0;32m     69\u001b[0m     \u001b[38;5;66;03m# `tf.debugging.disable_traceback_filtering()`\u001b[39;00m\n\u001b[1;32m---> 70\u001b[0m     \u001b[38;5;28;01mraise\u001b[39;00m e\u001b[38;5;241m.\u001b[39mwith_traceback(filtered_tb) \u001b[38;5;28;01mfrom\u001b[39;00m \u001b[38;5;28;01mNone\u001b[39;00m\n\u001b[0;32m     71\u001b[0m \u001b[38;5;28;01mfinally\u001b[39;00m:\n\u001b[0;32m     72\u001b[0m     \u001b[38;5;28;01mdel\u001b[39;00m filtered_tb\n",
      "File \u001b[1;32mc:\\Users\\ayqya\\anaconda3\\envs\\cnn\\lib\\site-packages\\tensorflow\\python\\framework\\tensor_shape.py:910\u001b[0m, in \u001b[0;36mTensorShape.__getitem__\u001b[1;34m(self, key)\u001b[0m\n\u001b[0;32m    908\u001b[0m \u001b[38;5;28;01melse\u001b[39;00m:\n\u001b[0;32m    909\u001b[0m   \u001b[38;5;28;01mif\u001b[39;00m \u001b[38;5;28mself\u001b[39m\u001b[38;5;241m.\u001b[39m_v2_behavior:\n\u001b[1;32m--> 910\u001b[0m     \u001b[38;5;28;01mreturn\u001b[39;00m \u001b[38;5;28;43mself\u001b[39;49m\u001b[38;5;241;43m.\u001b[39;49m\u001b[43m_dims\u001b[49m\u001b[43m[\u001b[49m\u001b[43mkey\u001b[49m\u001b[43m]\u001b[49m\n\u001b[0;32m    911\u001b[0m   \u001b[38;5;28;01melse\u001b[39;00m:\n\u001b[0;32m    912\u001b[0m     \u001b[38;5;28;01mreturn\u001b[39;00m \u001b[38;5;28mself\u001b[39m\u001b[38;5;241m.\u001b[39mdims[key]\n",
      "\u001b[1;31mIndexError\u001b[0m: tuple index out of range"
     ]
    }
   ],
   "source": [
    "model.evaluate(test_sample_dir)"
   ]
  },
  {
   "cell_type": "code",
   "execution_count": 313,
   "metadata": {},
   "outputs": [],
   "source": [
    "def predict(model, img_path):\n",
    "    img = keras.preprocessing.image.load_img(img_path, target_size=(150, 150))\n",
    "    img_array = keras.preprocessing.image.img_to_array(img)\n",
    "    prediction = model.predict(tf.expand_dims(img_array, axis=0))\n",
    "\n",
    "    return prediction.flatten().tolist()[0]"
   ]
  },
  {
   "cell_type": "code",
   "execution_count": 316,
   "metadata": {},
   "outputs": [
    {
     "name": "stdout",
     "output_type": "stream",
     "text": [
      "1/1 [==============================] - 0s 15ms/step\n"
     ]
    },
    {
     "data": {
      "text/plain": [
       "1.0"
      ]
     },
     "execution_count": 316,
     "metadata": {},
     "output_type": "execute_result"
    }
   ],
   "source": [
    "predict(model, './test_sample/test-prediction-new.jpg')"
   ]
  },
  {
   "cell_type": "code",
   "execution_count": 317,
   "metadata": {},
   "outputs": [
    {
     "name": "stdout",
     "output_type": "stream",
     "text": [
      "1/1 [==============================] - 0s 15ms/step\n"
     ]
    },
    {
     "data": {
      "text/plain": [
       "1.0"
      ]
     },
     "execution_count": 317,
     "metadata": {},
     "output_type": "execute_result"
    }
   ],
   "source": [
    "predict(model, './test_sample/test-pred-mid.png')"
   ]
  },
  {
   "cell_type": "code",
   "execution_count": 318,
   "metadata": {},
   "outputs": [
    {
     "name": "stdout",
     "output_type": "stream",
     "text": [
      "1/1 [==============================] - 0s 15ms/step\n"
     ]
    },
    {
     "data": {
      "text/plain": [
       "0.9999998211860657"
      ]
     },
     "execution_count": 318,
     "metadata": {},
     "output_type": "execute_result"
    }
   ],
   "source": [
    "predict(model, './test_sample/test-pred-bad.png')"
   ]
  },
  {
   "cell_type": "code",
   "execution_count": 322,
   "metadata": {},
   "outputs": [
    {
     "name": "stdout",
     "output_type": "stream",
     "text": [
      "1/1 [==============================] - 0s 16ms/step\n"
     ]
    },
    {
     "data": {
      "text/plain": [
       "0.99951171875"
      ]
     },
     "execution_count": 322,
     "metadata": {},
     "output_type": "execute_result"
    }
   ],
   "source": [
    "predict(model, './test_sample/kg-needmaintenance-s2.jpeg')"
   ]
  }
 ],
 "metadata": {
  "kernelspec": {
   "display_name": "image-classification",
   "language": "python",
   "name": "python3"
  },
  "language_info": {
   "codemirror_mode": {
    "name": "ipython",
    "version": 3
   },
   "file_extension": ".py",
   "mimetype": "text/x-python",
   "name": "python",
   "nbconvert_exporter": "python",
   "pygments_lexer": "ipython3",
   "version": "3.10.13"
  }
 },
 "nbformat": 4,
 "nbformat_minor": 2
}
