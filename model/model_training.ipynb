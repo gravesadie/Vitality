{
 "cells": [
  {
   "cell_type": "code",
   "execution_count": 1,
   "metadata": {},
   "outputs": [
    {
     "name": "stdout",
     "output_type": "stream",
     "text": [
      "Training good soles:  16\n",
      "Training bad soles:  30\n"
     ]
    }
   ],
   "source": [
    "import os\n",
    "\n",
    "data_dir = './training_model_data/'\n",
    "training_good_s = os.path.join(data_dir, 'good_soles')\n",
    "training_bad_s = os.path.join(data_dir, 'bad_soles')\n",
    "\n",
    "print('Training good soles: ', len(os.listdir(training_good_s)))\n",
    "print('Training bad soles: ', len(os.listdir(training_bad_s)))\n"
   ]
  },
  {
   "cell_type": "code",
   "execution_count": null,
   "metadata": {},
   "outputs": [],
   "source": []
  }
 ],
 "metadata": {
  "kernelspec": {
   "display_name": "image-classification",
   "language": "python",
   "name": "python3"
  },
  "language_info": {
   "codemirror_mode": {
    "name": "ipython",
    "version": 3
   },
   "file_extension": ".py",
   "mimetype": "text/x-python",
   "name": "python",
   "nbconvert_exporter": "python",
   "pygments_lexer": "ipython3",
   "version": "3.11.7"
  }
 },
 "nbformat": 4,
 "nbformat_minor": 2
}
